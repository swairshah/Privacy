{
 "cells": [
  {
   "cell_type": "code",
   "execution_count": 1,
   "metadata": {
    "collapsed": true
   },
   "outputs": [],
   "source": [
    "import torch\n",
    "from torch import FloatTensor\n",
    "from torch.autograd import Variable\n",
    "from torch.utils.data import DataLoader, TensorDataset\n",
    "import torchvision.transforms as transforms\n",
    "import torchvision\n",
    "import torch.optim as optim\n",
    "from tools import *\n",
    "plt.rcParams['figure.figsize'] = (10,7)\n",
    "%matplotlib inline"
   ]
  },
  {
   "cell_type": "code",
   "execution_count": 2,
   "metadata": {},
   "outputs": [],
   "source": [
    "mean = 0.1307\n",
    "stddev = 0.3081\n",
    "\n",
    "def imshow(img):\n",
    "    img = img*stddev + mean\n",
    "    npimg = img.numpy()\n",
    "    plt.imshow(np.transpose(npimg, (1,2,0)))\n",
    "\n",
    "transform=transforms.Compose([\n",
    "                       transforms.ToTensor(),\n",
    "                       transforms.Normalize((mean,), (stddev,))])\n",
    "\n",
    "batch_size = 100\n",
    "trainset = torchvision.datasets.MNIST(root='./data', train = True, download = True,\n",
    "                                      transform = transform)\n",
    "trainloader = torch.utils.data.DataLoader(trainset, batch_size=batch_size,\n",
    "                                          shuffle=True, num_workers=2)\n",
    "testset = torchvision.datasets.MNIST(root='./data', train=False,\n",
    "                                       download=True, transform=transform)\n",
    "testloader = torch.utils.data.DataLoader(testset, batch_size=4,\n",
    "                                         shuffle=True, num_workers=2)"
   ]
  },
  {
   "cell_type": "code",
   "execution_count": 3,
   "metadata": {
    "collapsed": true
   },
   "outputs": [],
   "source": [
    "class DiscriminatorNet(torch.nn.Module):                                                                \n",
    "    def __init__(self, n_in, n_hidden0, n_hidden1, n_hidden2, n_out):                          \n",
    "        super(DiscriminatorNet, self).__init__()                                                        \n",
    "        self.hidden0 = torch.nn.Linear(n_in, n_hidden0)                                        \n",
    "        self.hidden1 = torch.nn.Linear(n_hidden0, n_hidden1)                                         \n",
    "        self.hidden2 = torch.nn.Linear(n_hidden1, n_hidden2)\n",
    "        self.out     = torch.nn.Linear(n_hidden2, n_out)\n",
    "\n",
    "    def forward(self, x):\n",
    "        x = torch.nn.LeakyReLU(0.2)(self.hidden0(x))\n",
    "        x = torch.nn.Dropout(0.3)(x)\n",
    "        x = torch.nn.LeakyReLU(0.2)(self.hidden1(x))\n",
    "        x = torch.nn.Dropout(0.3)(x)\n",
    "        x = torch.nn.LeakyReLU(0.2)(self.hidden2(x))\n",
    "        x = torch.nn.Dropout(0.3)(x)\n",
    "        x = self.out(x)\n",
    "        return x\n",
    "    \n",
    "class GeneratorNet(torch.nn.Module):\n",
    "    def __init__(self, n_in, n_hidden0, n_hidden1, n_hidden2, n_out):\n",
    "        super(GeneratorNet, self).__init__()\n",
    "        assert(n_in == n_out)\n",
    "        self.hidden0 = torch.nn.Linear(n_in, n_hidden0)                                        \n",
    "        self.hidden1 = torch.nn.Linear(n_hidden0, n_hidden1)                                         \n",
    "        self.hidden2 = torch.nn.Linear(n_hidden1, n_hidden2)\n",
    "        self.out     = torch.nn.Linear(n_hidden2, n_out)\n",
    "\n",
    "    def forward(self, x):\n",
    "        x = torch.nn.LeakyReLU(0.2)(self.hidden0(x))\n",
    "        x = torch.nn.LeakyReLU(0.2)(self.hidden1(x))\n",
    "        x = torch.nn.LeakyReLU(0.2)(self.hidden2(x))\n",
    "        x = self.out(x)\n",
    "        return x"
   ]
  },
  {
   "cell_type": "markdown",
   "metadata": {},
   "source": [
    "## Train the GAN\n",
    "\n",
    "$$ \\max_G \\min_D \\| D(G(x)) - y \\|_2^2 $$"
   ]
  },
  {
   "cell_type": "code",
   "execution_count": 4,
   "metadata": {},
   "outputs": [
    {
     "data": {
      "text/plain": [
       "[<matplotlib.lines.Line2D at 0x7f1ea55b4ba8>]"
      ]
     },
     "execution_count": 4,
     "metadata": {},
     "output_type": "execute_result"
    },
    {
     "data": {
      "image/png": "[encoded data removed]",
      "text/plain": [
       "<matplotlib.figure.Figure at 0x7f1eaa31b828>"
      ]
     },
     "metadata": {},
     "output_type": "display_data"
    }
   ],
   "source": [
    "n = 784\n",
    "D = DiscriminatorNet(n, 256, 128, 64, 2)     \n",
    "G = GeneratorNet(n, 256, 64, 256, n)\n",
    "D_opt = torch.optim.Adam(D.parameters())\n",
    "G_opt = torch.optim.Adam(G.parameters())\n",
    "#criterion = torch.nn.MSELoss()\n",
    "criterion = torch.nn.CrossEntropyLoss()\n",
    "\n",
    "epochs = 10\n",
    "D_losses_raw = []\n",
    "D_losses_clean = []\n",
    "\n",
    "for epoch in range(epochs): \n",
    "    running_loss = 0.0\n",
    "    for i, data in enumerate(trainloader, 0):\n",
    "        inputs, labels = data\n",
    "        \n",
    "        X, y = Variable(inputs), Variable(labels)\n",
    "        y = (y == 5).long()\n",
    "        X = X.view(-1,784)\n",
    "    \n",
    "        #y_hat = D(xtr)\n",
    "        #D.zero_grad()\n",
    "        #D_loss_raw = loss(y_hat, ytr)\n",
    "        #D_losses_raw.append(D_loss_raw)\n",
    "        X_tild = G(X)\n",
    "        y_tild = D(X_tild)\n",
    "        \n",
    "        D.zero_grad()\n",
    "        D_loss = criterion(y_tild, y)\n",
    "        D_losses_clean.append(D_loss.data[0])\n",
    "        D_loss.backward(retain_graph = True)\n",
    "        D_opt.step()\n",
    "        \n",
    "        G.zero_grad()\n",
    "        G_loss = -criterion(y_tild, y)\n",
    "        G_loss.backward()\n",
    "        G_opt.step()\n",
    "        \n",
    "plt.plot(D_losses_clean,'.-')"
   ]
  },
  {
   "cell_type": "code",
   "execution_count": 31,
   "metadata": {
    "scrolled": false
   },
   "outputs": [
    {
     "data": {
      "image/png": "[encoded data removed]",
      "text/plain": [
       "<matplotlib.figure.Figure at 0x7f1f04c139b0>"
      ]
     },
     "metadata": {},
     "output_type": "display_data"
    }
   ],
   "source": [
    "dataiter = iter(testloader)\n",
    "images, labels = dataiter.next()\n",
    "imshow(torchvision.utils.make_grid(images))\n",
    "\n",
    "X = Variable(images)\n",
    "X = X.view(-1,784)\n",
    "Xhat = G(X)\n",
    "Xhat = Xhat.view(-1,1,28,28)\n",
    "#print(cleaned.data.size())"
   ]
  },
  {
   "cell_type": "code",
   "execution_count": 32,
   "metadata": {
    "scrolled": true
   },
   "outputs": [
    {
     "data": {
      "image/png": "[encoded data removed]",
      "text/plain": [
       "<matplotlib.figure.Figure at 0x7f1ea53fd320>"
      ]
     },
     "metadata": {},
     "output_type": "display_data"
    }
   ],
   "source": [
    "imshow(torchvision.utils.make_grid(Xhat.data))"
   ]
  },
  {
   "cell_type": "code",
   "execution_count": null,
   "metadata": {
    "collapsed": true
   },
   "outputs": [],
   "source": []
  }
 ],
 "metadata": {
  "kernelspec": {
   "display_name": "Python 3",
   "language": "python",
   "name": "python3"
  },
  "language_info": {
   "codemirror_mode": {
    "name": "ipython",
    "version": 3
   },
   "file_extension": ".py",
   "mimetype": "text/x-python",
   "name": "python",
   "nbconvert_exporter": "python",
   "pygments_lexer": "ipython3",
   "version": "3.6.4"
  }
 },
 "nbformat": 4,
 "nbformat_minor": 2
}
