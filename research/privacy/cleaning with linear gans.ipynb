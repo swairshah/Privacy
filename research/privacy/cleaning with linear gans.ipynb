{
 "cells": [
  {
   "cell_type": "code",
   "execution_count": 1,
   "metadata": {
    "collapsed": true
   },
   "outputs": [],
   "source": [
    "from sklearn.datasets.samples_generator import make_regression\n",
    "from sklearn.linear_model import Lasso\n",
    "from sklearn.linear_model import LinearRegression \n",
    "from sklearn.pipeline import Pipeline\n",
    "from sklearn.preprocessing import PolynomialFeatures\n",
    "\n",
    "import torch\n",
    "from torch.autograd import Variable\n",
    "from torch.utils.data import DataLoader, TensorDataset\n",
    "\n",
    "plt.rcParams['figure.figsize'] = (10,7)\n",
    "%matplotlib inline"
   ]
  },
  {
   "cell_type": "code",
   "execution_count": 3,
   "metadata": {
    "collapsed": true
   },
   "outputs": [],
   "source": [
    "m = 2000       \n",
    "n = 200                                       \n",
    "N = 10\n",
    "\n",
    "X, y = make_regression(n_samples = m,\n",
    "                       n_features= n,\n",
    "                       n_targets = N,\n",
    "                       random_state=0)\n",
    "\n",
    "tr_size = int(m*0.8)\n",
    "Xtr = X[:tr_size,:]\n",
    "Xtst = X[tr_size:,:]\n",
    "ytr = y[:tr_size,:]\n",
    "ytst = y[tr_size:,:]"
   ]
  },
  {
   "cell_type": "code",
   "execution_count": 4,
   "metadata": {
    "collapsed": true
   },
   "outputs": [],
   "source": [
    "Nc = 2\n",
    "Nd = 8\n",
    "yc_idx = [8,9]\n",
    "yd_idx = [0,1,2,3,4,5,6,7]\n",
    "yc_tr = ytr[:,yc_idx]\n",
    "yd_tr = ytr[:,yd_idx]\n",
    "yc_tst = ytst[:,yc_idx]\n",
    "yd_tst = ytst[:, yd_idx]"
   ]
  },
  {
   "cell_type": "code",
   "execution_count": 5,
   "metadata": {
    "collapsed": true
   },
   "outputs": [],
   "source": [
    "Xtr_t = torch.FloatTensor(Xtr)\n",
    "ytr_t = torch.FloatTensor(ytr)\n",
    "Xtst_t = torch.FloatTensor(Xtst)\n",
    "ytst_t = torch.FloatTensor(ytst)\n",
    "\n",
    "yc_tr_t = torch.FloatTensor(yc_tr)\n",
    "yd_tr_t = torch.FloatTensor(yd_tr)\n",
    "yc_tst_t = torch.FloatTensor(yc_tst)\n",
    "yd_tst_t = torch.FloatTensor(yd_tst)"
   ]
  },
  {
   "cell_type": "markdown",
   "metadata": {},
   "source": [
    "## Linear Regression for y_c and y_d\n",
    "First check the $e_c$ and $e_d$ on raw (uncleaned data) $X$"
   ]
  },
  {
   "cell_type": "code",
   "execution_count": 6,
   "metadata": {},
   "outputs": [
    {
     "name": "stdout",
     "output_type": "stream",
     "text": [
      "e_c: 1.40270942601e-11\n",
      "e_d: 2.68488149194e-11\n"
     ]
    }
   ],
   "source": [
    "lr = LinearRegression()\n",
    "lr.fit(Xtr, yc_tr)         \n",
    "y_hat = lr.predict(Xtst) \n",
    "print(\"e_c:\", np.linalg.norm(yc_tst - y_hat)) \n",
    "\n",
    "lr = LinearRegression()\n",
    "lr.fit(Xtr, yd_tr)         \n",
    "y_hat = lr.predict(Xtst) \n",
    "print(\"e_d:\", np.linalg.norm(yd_tst - y_hat)) "
   ]
  },
  {
   "cell_type": "markdown",
   "metadata": {},
   "source": [
    "# Training a network same as discriminator for y_c and y_d prediction\n",
    "Now try the same, i.e. predict $y_c$ and $y_d$ from a neural net of the same type as the one we will use as discriminator in the GAN. "
   ]
  },
  {
   "cell_type": "code",
   "execution_count": 7,
   "metadata": {
    "scrolled": true
   },
   "outputs": [
    {
     "name": "stdout",
     "output_type": "stream",
     "text": [
      "Error for CONFIDENTIAL Labels with Raw Data 8.148395136231557e-05\n",
      "Error for DESIRED Labels with Raw Data 0.027695100754499435\n"
     ]
    },
    {
     "data": {
      "image/png": "[encoded data removed]",
      "text/plain": [
       "<matplotlib.figure.Figure at 0x7fcacd32fe48>"
      ]
     },
     "metadata": {},
     "output_type": "display_data"
    }
   ],
   "source": [
    "def Discriminator(D_in, D_out):\n",
    "    model = torch.nn.Sequential(\n",
    "            torch.nn.Linear(D_in, D_out, bias = True))\n",
    "    return model\n",
    "\n",
    "def Generator(D_in, D_out):\n",
    "    model = torch.nn.Sequential(\n",
    "            torch.nn.Linear(D_in, D_out, bias = True))\n",
    "    return model\n",
    "\n",
    "learning_rate = 1e-4\n",
    "discriminator_loss = torch.nn.MSELoss(size_average=True)\n",
    "Netc = Discriminator(n, Nc)\n",
    "Netd = Discriminator(n, Nd)\n",
    "Netc_opt = torch.optim.SGD(Netc.parameters(), lr = learning_rate, momentum=0.9)\n",
    "Netd_opt = torch.optim.SGD(Netd.parameters(), lr = learning_rate, momentum=0.9)\n",
    "\n",
    "d_losses = []\n",
    "c_losses = []\n",
    "for i in range(50000):\n",
    "    Netc.zero_grad()\n",
    "    Netd.zero_grad()\n",
    "    yc_hat = Netc(Variable(Xtr_t))\n",
    "    yd_hat = Netd(Variable(Xtr_t))\n",
    "    Netc_loss = discriminator_loss(yc_hat, Variable(yc_tr_t))\n",
    "    Netd_loss = discriminator_loss(yd_hat, Variable(yd_tr_t))\n",
    "    \n",
    "    c_losses.append(Netc_loss.data[0])\n",
    "    d_losses.append(Netd_loss.data[0])\n",
    "    \n",
    "    Netc_loss.backward()\n",
    "    Netd_loss.backward()\n",
    "    \n",
    "    Netc_opt.step()\n",
    "    Netd_opt.step()\n",
    "    \n",
    "plt.plot(d_losses,'.')\n",
    "plt.plot(c_losses,'.')\n",
    "\n",
    "yc_hat = Netc(Variable(Xtst_t))\n",
    "yd_hat = Netd(Variable(Xtst_t))\n",
    "Netc_loss_test = discriminator_loss(yc_hat, Variable(yc_tst_t))\n",
    "Netd_loss_test = discriminator_loss(yd_hat, Variable(yd_tst_t))\n",
    "print(\"Error for CONFIDENTIAL Labels with Raw Data\", Netc_loss_test.data[0])\n",
    "print(\"Error for DESIRED Labels with Raw Data\", Netd_loss_test.data[0])"
   ]
  },
  {
   "cell_type": "markdown",
   "metadata": {},
   "source": [
    "## GANs for data cleaning"
   ]
  },
  {
   "cell_type": "code",
   "execution_count": 8,
   "metadata": {
    "collapsed": true
   },
   "outputs": [],
   "source": [
    "def Discriminator(D_in, D_out):\n",
    "    model = torch.nn.Sequential(\n",
    "            torch.nn.Linear(D_in, D_out, bias = True))\n",
    "    return model\n",
    "\n",
    "def Generator(D_in, D_out):\n",
    "    model = torch.nn.Sequential(\n",
    "            torch.nn.Linear(D_in, D_out, bias = True))\n",
    "    return model\n",
    "\n",
    "learning_rate = 1e-6\n",
    "discriminator_loss = torch.nn.MSELoss(size_average=True)\n",
    "Dc = Discriminator(n, Nc)\n",
    "Dd = Discriminator(n, Nd)\n",
    "Dc_opt = torch.optim.SGD(Dc.parameters(), lr = learning_rate, momentum=0.9)\n",
    "Dd_opt = torch.optim.SGD(Dd.parameters(), lr = learning_rate, momentum=0.9)\n",
    "\n",
    "G = Generator(n, n)\n",
    "G_opt = torch.optim.SGD(G.parameters(), lr = learning_rate, momentum=0.9)"
   ]
  },
  {
   "cell_type": "code",
   "execution_count": 9,
   "metadata": {},
   "outputs": [
    {
     "name": "stdout",
     "output_type": "stream",
     "text": [
      "27666.857421875 24363.39453125\n"
     ]
    },
    {
     "data": {
      "image/png": "[encoded data removed]",
      "text/plain": [
       "<matplotlib.figure.Figure at 0x7fcacd330c88>"
      ]
     },
     "metadata": {},
     "output_type": "display_data"
    }
   ],
   "source": [
    "d_losses = []\n",
    "c_losses = []\n",
    "for i in range(100000):\n",
    "    \n",
    "    # Get Raw discriminator loss\n",
    "    Dc.zero_grad()\n",
    "    Dd.zero_grad()\n",
    "    yc_hat = Dc(Variable(Xtr_t))\n",
    "    yd_hat = Dd(Variable(Xtr_t))\n",
    "    Dc_loss_raw = discriminator_loss(yc_hat, Variable(yc_tr_t))\n",
    "    Dd_loss_raw = discriminator_loss(yd_hat, Variable(yd_tr_t))\n",
    "    \n",
    "    c_losses.append(Dc_loss_raw.data[0])\n",
    "    d_losses.append(Dd_loss_raw.data[0])\n",
    "    \n",
    "    ## get Cleaned discriminators loss\n",
    "    X_hat = G(Variable(Xtr_t))\n",
    "    yc_hat = Dc(X_hat)\n",
    "    yd_hat = Dd(X_hat)\n",
    "    Dc_loss_clean = discriminator_loss(yc_hat, Variable(yc_tr_t))\n",
    "    Dd_loss_clean = discriminator_loss(yd_hat, Variable(yd_tr_t))\n",
    "    \n",
    "    # Train discriminator on total loss\n",
    "    Dc_loss = Dc_loss_clean + Dc_loss_raw\n",
    "    Dd_loss = Dd_loss_clean + Dd_loss_raw\n",
    "    D_loss = Dc_loss + Dd_loss\n",
    "    \n",
    "    D_loss.backward(retain_graph=True)\n",
    "    Dc_opt.step()\n",
    "    Dd_opt.step()\n",
    "    \n",
    "    ## Train Generator\n",
    "    G.zero_grad()\n",
    "    G_loss = Dd_loss_clean - Dc_loss_clean\n",
    "    G_loss.backward()\n",
    "    G_opt.step()\n",
    "    \n",
    "plt.plot(d_losses,'.')\n",
    "plt.plot(c_losses,'.')\n",
    "\n",
    "yc_hat = Dc(Variable(Xtst_t))\n",
    "yd_hat = Dd(Variable(Xtst_t))\n",
    "Dc_loss_test = discriminator_loss(yc_hat, Variable(yc_tst_t))\n",
    "Dd_loss_test = discriminator_loss(yd_hat, Variable(yd_tst_t))\n",
    "print(Dc_loss_test.data[0], Dd_loss_test.data[0])"
   ]
  },
  {
   "cell_type": "markdown",
   "metadata": {},
   "source": [
    "To check if the discriminators are trained properly on raw data, check error while predicting from raw data"
   ]
  },
  {
   "cell_type": "code",
   "execution_count": 10,
   "metadata": {},
   "outputs": [
    {
     "name": "stdout",
     "output_type": "stream",
     "text": [
      "27666.857421875 24363.39453125\n"
     ]
    }
   ],
   "source": [
    "yc_hat = Dc(Variable(Xtst_t))\n",
    "yd_hat = Dd(Variable(Xtst_t))\n",
    "Dc_loss_test = discriminator_loss(yc_hat, Variable(yc_tst_t))\n",
    "Dd_loss_test = discriminator_loss(yd_hat, Variable(yd_tst_t))\n",
    "print(Dc_loss_test.data[0], Dd_loss_test.data[0])\n"
   ]
  },
  {
   "cell_type": "markdown",
   "metadata": {},
   "source": [
    "Now check the error of $y_c$ and $y_d$ for cleaned data"
   ]
  },
  {
   "cell_type": "code",
   "execution_count": 11,
   "metadata": {},
   "outputs": [
    {
     "name": "stdout",
     "output_type": "stream",
     "text": [
      "23170.404296875 9388.720703125\n",
      "Error for CONFIDENTIAL Labels with Cleaned Data 23170.404296875\n",
      "Error for DESIRED Labels with Cleaned Data 9388.720703125\n"
     ]
    }
   ],
   "source": [
    "X_hat = G(Variable(Xtst_t))\n",
    "yc_hat = Dc(X_hat)\n",
    "yd_hat = Dd(X_hat)\n",
    "Dc_loss_test = discriminator_loss(yc_hat, Variable(yc_tst_t))\n",
    "Dd_loss_test = discriminator_loss(yd_hat, Variable(yd_tst_t))\n",
    "print(Dc_loss_test.data[0], Dd_loss_test.data[0])\n",
    "print(\"Error for CONFIDENTIAL Labels with Cleaned Data\", Dc_loss_test.data[0])\n",
    "print(\"Error for DESIRED Labels with Cleaned Data\", Dd_loss_test.data[0])"
   ]
  },
  {
   "cell_type": "code",
   "execution_count": 12,
   "metadata": {},
   "outputs": [
    {
     "name": "stdout",
     "output_type": "stream",
     "text": [
      "e_c: 37015.4529217\n",
      "e_d: 39089.7639171\n"
     ]
    }
   ],
   "source": [
    "X_hat = G(Variable(Xtr_t))\n",
    "lr = LinearRegression()\n",
    "lr.fit(X_hat.data.numpy(), yc_tr)         \n",
    "y_hat = lr.predict(Xtst) \n",
    "print(\"e_c:\", np.linalg.norm(yc_tst - y_hat)) \n",
    "\n",
    "lr = LinearRegression()\n",
    "lr.fit(X_hat.data.numpy(), yd_tr)         \n",
    "y_hat = lr.predict(Xtst) \n",
    "print(\"e_d:\", np.linalg.norm(yd_tst - y_hat)) "
   ]
  }
 ],
 "metadata": {
  "kernelspec": {
   "display_name": "Python 3",
   "language": "python",
   "name": "python3"
  },
  "language_info": {
   "codemirror_mode": {
    "name": "ipython",
    "version": 3
   },
   "file_extension": ".py",
   "mimetype": "text/x-python",
   "name": "python",
   "nbconvert_exporter": "python",
   "pygments_lexer": "ipython3",
   "version": "3.6.2"
  }
 },
 "nbformat": 4,
 "nbformat_minor": 2
}
